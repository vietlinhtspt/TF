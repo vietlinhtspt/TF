{
 "cells": [
  {
   "cell_type": "code",
   "execution_count": 1,
   "metadata": {},
   "outputs": [
    {
     "data": {
      "text/plain": [
       "'1.13.1'"
      ]
     },
     "execution_count": 1,
     "metadata": {},
     "output_type": "execute_result"
    }
   ],
   "source": [
    "import numpy as np\n",
    "import tensorflow as tf\n",
    "import matplotlib.pyplot as plt\n",
    "import math\n",
    "from sklearn.metrics import confusion_matrix\n",
    "tf.__version__"
   ]
  },
  {
   "cell_type": "markdown",
   "metadata": {},
   "source": [
    "## Configuration of Neural Network"
   ]
  },
  {
   "cell_type": "code",
   "execution_count": 2,
   "metadata": {},
   "outputs": [],
   "source": [
    "# Convolutional layer 1\n",
    "filter1_size = 5\n",
    "num_filter1 = 16\n",
    "\n",
    "# Convolutional layer 2\n",
    "filter2_size = 5\n",
    "num_filter2 = 36\n",
    "\n",
    "# Fully-connected layer \n",
    "fc_size = 128"
   ]
  },
  {
   "cell_type": "markdown",
   "metadata": {},
   "source": [
    "## Load data"
   ]
  },
  {
   "cell_type": "code",
   "execution_count": 3,
   "metadata": {},
   "outputs": [],
   "source": [
    "from mnist import MNIST\n",
    "data = MNIST(data_dir=\"data/MNIST/\")"
   ]
  },
  {
   "cell_type": "code",
   "execution_count": 4,
   "metadata": {},
   "outputs": [],
   "source": [
    "x_train = data.x_train\n",
    "y_train = data.y_train\n",
    "y_train_cls = data.y_train_cls\n",
    "\n",
    "x_test = data.x_test\n",
    "y_test = data.y_test\n",
    "y_test_cls = data.y_test_cls"
   ]
  },
  {
   "cell_type": "markdown",
   "metadata": {},
   "source": [
    "## Configuration of Dataset"
   ]
  },
  {
   "cell_type": "code",
   "execution_count": 5,
   "metadata": {},
   "outputs": [],
   "source": [
    "num_train = data.num_train\n",
    "num_test = data.num_test\n",
    "num_classes = data.num_classes\n",
    "# Image shape\n",
    "img_shape = data.img_shape\n",
    "img_size_flat = data.img_size_flat\n",
    "# Num channel color\n",
    "num_channels = data.num_channels"
   ]
  },
  {
   "cell_type": "markdown",
   "metadata": {},
   "source": [
    "## TODO: Helper-function for ploting images "
   ]
  },
  {
   "cell_type": "code",
   "execution_count": 6,
   "metadata": {},
   "outputs": [],
   "source": [
    "# Helper function for plotting 9x9 images in a grid, writting true and predict labels bellow each image.\n",
    "def plot_images(images, true_labels, pred_labels=None):\n",
    "    assert (len(images) == len(true_labels))\n",
    "    fig, axes = plt.subplots(3, 3)\n",
    "    fig.subplots_adjust(0.3, 0.3)\n",
    "    \n",
    "    for i, ax in enumerate(axes.flat):\n",
    "        # Set images\n",
    "        ax.imshow(images[i].reshape(img_shape), cmap='binary')\n",
    "        \n",
    "        # Set labels\n",
    "        if (pred_labels == None):\n",
    "            xlabel = \"True label: {0}\".format(true_labels[i])\n",
    "        else:\n",
    "            xlabel = \"True label: {0}, Predict label: {1}\".format(true_labels[i], pred_labels[i])\n",
    "        ax.set_xlabel(xlabel)\n",
    "        \n",
    "        # Remove ticks\n",
    "        ax.set_xticks([])\n",
    "        ax.set_yticks([])\n",
    "        \n",
    "    plt.show()\n",
    "    pass"
   ]
  },
  {
   "cell_type": "code",
   "execution_count": 7,
   "metadata": {},
   "outputs": [
    {
     "data": {
      "image/png": "[encoded data removed]",
      "text/plain": [
       "<Figure size 432x288 with 9 Axes>"
      ]
     },
     "metadata": {},
     "output_type": "display_data"
    }
   ],
   "source": [
    "plot_images(x_test[:9], y_test_cls[:9])"
   ]
  },
  {
   "cell_type": "markdown",
   "metadata": {},
   "source": [
    "## TODO: Helper-function for create variables"
   ]
  },
  {
   "cell_type": "code",
   "execution_count": 8,
   "metadata": {},
   "outputs": [],
   "source": [
    "def new_weight(shape):\n",
    "    return tf.Variable(tf.truncated_normal(shape, stddev=0.05))\n",
    "def new_bias(length):\n",
    "    return tf.Variable(tf.constant(value=0.05, shape=[length]))"
   ]
  },
  {
   "cell_type": "markdown",
   "metadata": {},
   "source": [
    "## TODO: Helper-function for create Convolutional layer"
   ]
  },
  {
   "cell_type": "code",
   "execution_count": 9,
   "metadata": {},
   "outputs": [],
   "source": [
    "def new_conv_layer(input, \n",
    "                  num_input_channels,\n",
    "                  filter_size, \n",
    "                  num_filters, \n",
    "                  use_pooling):\n",
    "    shape = (filter_size, filter_size, num_input_channels, num_filters)\n",
    "    weights = new_weight(shape)\n",
    "    biases = new_bias(num_filters)\n",
    "    layer = tf.nn.conv2d(input=input, \n",
    "                         filter=weights, \n",
    "                         strides=[1,2,2,1], \n",
    "                         padding=\"SAME\")\n",
    "    # Add bias\n",
    "    layer = layer + biases\n",
    "    # Use pooling\n",
    "    if use_pooling:\n",
    "        layer = tf.nn.max_pool(value=layer, \n",
    "                               ksize=[1, 2, 2, 1], \n",
    "                               strides=[1, 2, 2, 1], \n",
    "                               padding=\"SAME\")\n",
    "    # Activation function ReLU\n",
    "    layer = tf.nn.relu(layer)\n",
    "    return layer, weights"
   ]
  },
  {
   "cell_type": "markdown",
   "metadata": {},
   "source": [
    "## TODO: Helper-function for plattening a layer"
   ]
  },
  {
   "cell_type": "code",
   "execution_count": 10,
   "metadata": {},
   "outputs": [],
   "source": [
    "def flatten_layer(layer):\n",
    "    # Get the shape of the input layer.\n",
    "    layer_shape = layer.get_shape()\n",
    "\n",
    "    # The shape of the input layer is assumed to be:\n",
    "    # layer_shape == [num_images, img_height, img_width, num_channels]\n",
    "\n",
    "    # The number of features is: img_height * img_width * num_channels\n",
    "    # We can use a function from TensorFlow to calculate this.\n",
    "    num_features = layer_shape[1:4].num_elements()\n",
    "    \n",
    "    # Reshape the layer to [num_images, num_features].\n",
    "    # Note that we just set the size of the second dimension\n",
    "    # to num_features and the size of the first dimension to -1\n",
    "    # which means the size in that dimension is calculated\n",
    "    # so the total size of the tensor is unchanged from the reshaping.\n",
    "    layer_flat = tf.reshape(layer, [-1, num_features])\n",
    "\n",
    "    # The shape of the flattened layer is now:\n",
    "    # [num_images, img_height * img_width * num_channels]\n",
    "\n",
    "    # Return both the flattened layer and the number of features.\n",
    "    return layer_flat, num_features"
   ]
  },
  {
   "cell_type": "markdown",
   "metadata": {},
   "source": [
    "## TODO: Helper-function for create Fully-connected layer"
   ]
  },
  {
   "cell_type": "code",
   "execution_count": 11,
   "metadata": {},
   "outputs": [],
   "source": [
    "def new_fc_layer(input, \n",
    "                 num_input_channels, \n",
    "                 num_output, \n",
    "                 use_relu=True):\n",
    "    # Create weight and bias\n",
    "    weights = new_weight(shape=[num_input_channels, num_output])\n",
    "    biases = new_bias(num_output)\n",
    "    \n",
    "    layer = tf.linalg.matmul(input, weights) + biases\n",
    "    if use_relu:\n",
    "        layer = tf.nn.relu(layer)\n",
    "        \n",
    "    return layer"
   ]
  },
  {
   "cell_type": "markdown",
   "metadata": {},
   "source": [
    "# TODO: Placeholder"
   ]
  },
  {
   "cell_type": "code",
   "execution_count": 12,
   "metadata": {},
   "outputs": [
    {
     "name": "stdout",
     "output_type": "stream",
     "text": [
      "WARNING:tensorflow:From <ipython-input-12-0362a6d23ed2>:5: calling dropout (from tensorflow.python.ops.nn_ops) with keep_prob is deprecated and will be removed in a future version.\n",
      "Instructions for updating:\n",
      "Please use `rate` instead of `keep_prob`. Rate should be set to `rate = 1 - keep_prob`.\n"
     ]
    }
   ],
   "source": [
    "x = tf.placeholder(tf.float32, shape=[None, img_size_flat], name='x')\n",
    "x_image = tf.reshape(x, shape=[-1, img_shape[0], img_shape[1], num_channels])\n",
    "y_true = tf.placeholder(tf.float32, shape=[None, num_classes], name='y_true')\n",
    "# Dropout \n",
    "tf.nn.dropout(y_true, 0.5)\n",
    "######################################################\n",
    "y_true_cls = tf.argmax(y_true, axis=1)"
   ]
  },
  {
   "cell_type": "code",
   "execution_count": 13,
   "metadata": {},
   "outputs": [
    {
     "name": "stdout",
     "output_type": "stream",
     "text": [
      "WARNING:tensorflow:From /home/ubuntu/anaconda3/envs/tensorflow_env/lib/python3.7/site-packages/tensorflow/python/framework/op_def_library.py:263: colocate_with (from tensorflow.python.framework.ops) is deprecated and will be removed in a future version.\n",
      "Instructions for updating:\n",
      "Colocations handled automatically by placer.\n"
     ]
    },
    {
     "data": {
      "text/plain": [
       "<tf.Tensor 'Relu_2:0' shape=(?, 2, 2, 36) dtype=float32>"
      ]
     },
     "execution_count": 13,
     "metadata": {},
     "output_type": "execute_result"
    }
   ],
   "source": [
    "# Create convolution layer\n",
    "conv_layer1, weight1 = new_conv_layer(input=x_image, \n",
    "                                      num_input_channels=num_channels, \n",
    "                                      filter_size=filter1_size, \n",
    "                                      num_filters=num_filter1, \n",
    "                                      use_pooling=True)\n",
    "conv_layer2, weight2 = new_conv_layer(input=conv_layer1, \n",
    "                                      num_input_channels=num_filter1, \n",
    "                                      filter_size=filter2_size, \n",
    "                                      num_filters=num_filter2, \n",
    "                                      use_pooling=True)\n",
    "tf.nn.relu(conv_layer2)"
   ]
  },
  {
   "cell_type": "code",
   "execution_count": 14,
   "metadata": {},
   "outputs": [
    {
     "data": {
      "text/plain": [
       "<tf.Tensor 'Relu_1:0' shape=(?, 2, 2, 36) dtype=float32>"
      ]
     },
     "execution_count": 14,
     "metadata": {},
     "output_type": "execute_result"
    }
   ],
   "source": [
    "conv_layer2"
   ]
  },
  {
   "cell_type": "code",
   "execution_count": 15,
   "metadata": {},
   "outputs": [
    {
     "name": "stdout",
     "output_type": "stream",
     "text": [
      "144\n"
     ]
    },
    {
     "data": {
      "text/plain": [
       "<tf.Tensor 'Reshape_1:0' shape=(?, 144) dtype=float32>"
      ]
     },
     "execution_count": 15,
     "metadata": {},
     "output_type": "execute_result"
    }
   ],
   "source": [
    "# Flatten layer\n",
    "layer_flat, num_features = flatten_layer(conv_layer2)\n",
    "print(num_features)\n",
    "layer_flat"
   ]
  },
  {
   "cell_type": "code",
   "execution_count": 16,
   "metadata": {},
   "outputs": [],
   "source": [
    "# Fully connected layer\n",
    "fc_layer1 = new_fc_layer(input=layer_flat, \n",
    "                            num_input_channels=num_features, \n",
    "                            num_output=fc_size, \n",
    "                            use_relu=True)\n",
    "fc_layer2 = new_fc_layer(input=fc_layer1, \n",
    "                            num_input_channels=fc_size, \n",
    "                            num_output=num_classes, \n",
    "                            use_relu=False)"
   ]
  },
  {
   "cell_type": "code",
   "execution_count": 17,
   "metadata": {},
   "outputs": [],
   "source": [
    "# Create y_pred\n",
    "y_pred = tf.nn.softmax(fc_layer2)\n",
    "y_pred_cls= tf.math.argmax(y_pred, axis=1)"
   ]
  },
  {
   "cell_type": "code",
   "execution_count": 18,
   "metadata": {},
   "outputs": [],
   "source": [
    "# Cross entropy\n",
    "cross_entropy = tf.nn.softmax_cross_entropy_with_logits_v2(labels=y_true, logits=fc_layer2)"
   ]
  },
  {
   "cell_type": "code",
   "execution_count": 19,
   "metadata": {},
   "outputs": [],
   "source": [
    "cost = tf.math.reduce_mean(cross_entropy)"
   ]
  },
  {
   "cell_type": "code",
   "execution_count": 20,
   "metadata": {},
   "outputs": [],
   "source": [
    "optimizer = tf.train.AdamOptimizer(learning_rate=0.001).minimize(cost)"
   ]
  },
  {
   "cell_type": "code",
   "execution_count": 21,
   "metadata": {},
   "outputs": [],
   "source": [
    "correct_predictions = tf.equal(y_pred_cls, y_true_cls)"
   ]
  },
  {
   "cell_type": "code",
   "execution_count": 22,
   "metadata": {},
   "outputs": [],
   "source": [
    "accuracy = tf.reduce_mean(tf.cast(correct_predictions, tf.float32))"
   ]
  },
  {
   "cell_type": "markdown",
   "metadata": {},
   "source": [
    "## Tensorflow run"
   ]
  },
  {
   "cell_type": "code",
   "execution_count": 23,
   "metadata": {},
   "outputs": [],
   "source": [
    "session = tf.Session()"
   ]
  },
  {
   "cell_type": "code",
   "execution_count": 24,
   "metadata": {},
   "outputs": [],
   "source": [
    "session.run(tf.global_variables_initializer())"
   ]
  },
  {
   "cell_type": "code",
   "execution_count": 25,
   "metadata": {},
   "outputs": [],
   "source": [
    "# Batch size of data training.\n",
    "batch_size = 64"
   ]
  },
  {
   "cell_type": "code",
   "execution_count": 26,
   "metadata": {},
   "outputs": [],
   "source": [
    "feed_dict_test = {x: x_test,\n",
    "                  y_true: y_test}"
   ]
  },
  {
   "cell_type": "code",
   "execution_count": 27,
   "metadata": {},
   "outputs": [],
   "source": [
    "num_iterator = 0 \n",
    "def optimize(iterations):\n",
    "    global num_iterator\n",
    "    for i in range(num_iterator, num_iterator + iterations):\n",
    "        x_batch, y_true_batch, _ = data.random_batch(batch_size=batch_size)\n",
    "        feed_dict_train = {x: x_batch, \n",
    "                           y_true: y_true_batch}\n",
    "        session.run(optimizer, feed_dict=feed_dict_train)\n",
    "        \n",
    "        # Print training accuracy each 100 iteration.\n",
    "        # Print test accuracy each 100 iteration.\n",
    "        if (i % 100 == 0):\n",
    "            acc_train = session.run(accuracy, feed_dict_train)\n",
    "            print(\"{0}: Accuracy train: {1:<6}\".format(i, acc_train))\n",
    "\n",
    "    # Update variable count iteration training\n",
    "    num_iterator = num_iterator + iterations"
   ]
  },
  {
   "cell_type": "code",
   "execution_count": 28,
   "metadata": {},
   "outputs": [],
   "source": [
    "def plot_example_error(y_pred_cls, y_true_cls):\n",
    "    correct = tf.equal(y_pred_cls, y_true_cls)\n",
    "    incorrect = (correct == False)\n",
    "    \n",
    "    img_incorrect = x[incorrect]\n",
    "    pred_labels = y_pred_cls[incorrect]\n",
    "    true_labels = y_true_cls[incorrect]\n",
    "    \n",
    "    plot_images[img_incorrect, true_labels, pred_labels]"
   ]
  },
  {
   "cell_type": "code",
   "execution_count": 29,
   "metadata": {},
   "outputs": [],
   "source": [
    "def plot_confusion_matrix(pred_cls):\n",
    "    true_cls = data.y_test_cls\n",
    "    cm = confusion_matrix(pred_cls, true_cls)\n",
    "    print(cm)"
   ]
  },
  {
   "cell_type": "code",
   "execution_count": 30,
   "metadata": {},
   "outputs": [],
   "source": [
    "def print_test_accuracy(print_confusion_matrix=False, \n",
    "                        plot_example_error=False):\n",
    "    \n",
    "    images = data.x_test\n",
    "    # Get the associated labels.\n",
    "    labels = data.y_test\n",
    "    # Create a feed-dict with these images and labels.\n",
    "    feed_dict = {x: images,\n",
    "                 y_true: labels}\n",
    "    #y_pred = session.run(y_pred_cls, feed_dict=feed_dict_test)\n",
    "    \n",
    "    # Calculate accuracy\n",
    "    acc = session.run(accuracy, feed_dict=feed_dict)\n",
    "    print(\"Accuracy: \", acc)\n",
    "    \n",
    "    # Another way to calculate accuracy\n",
    "    #pred_label = session.run(y_pred_cls, feed_dict=feed_dict)\n",
    "    #correct = np.equal(pred_label, data.y_test_cls)\n",
    "    #print(\"Accuracy: \", float(correct.sum())/10000)"
   ]
  },
  {
   "cell_type": "code",
   "execution_count": 31,
   "metadata": {},
   "outputs": [
    {
     "name": "stdout",
     "output_type": "stream",
     "text": [
      "Accuracy:  0.1032\n"
     ]
    }
   ],
   "source": [
    "print_test_accuracy()"
   ]
  },
  {
   "cell_type": "code",
   "execution_count": 32,
   "metadata": {},
   "outputs": [
    {
     "name": "stdout",
     "output_type": "stream",
     "text": [
      "0: Accuracy train: 0.125 \n"
     ]
    }
   ],
   "source": [
    "optimize(iterations=1)"
   ]
  },
  {
   "cell_type": "code",
   "execution_count": 33,
   "metadata": {},
   "outputs": [
    {
     "name": "stdout",
     "output_type": "stream",
     "text": [
      "100: Accuracy train: 0.75  \n"
     ]
    }
   ],
   "source": [
    "optimize(iterations=100)"
   ]
  },
  {
   "cell_type": "code",
   "execution_count": 34,
   "metadata": {},
   "outputs": [
    {
     "name": "stdout",
     "output_type": "stream",
     "text": [
      "200: Accuracy train: 0.875 \n",
      "300: Accuracy train: 0.9375\n",
      "400: Accuracy train: 0.875 \n",
      "500: Accuracy train: 0.953125\n",
      "600: Accuracy train: 0.953125\n",
      "700: Accuracy train: 0.921875\n",
      "800: Accuracy train: 0.9375\n",
      "900: Accuracy train: 0.953125\n",
      "1000: Accuracy train: 0.984375\n",
      "1100: Accuracy train: 0.984375\n"
     ]
    }
   ],
   "source": [
    "optimize(iterations=1000)"
   ]
  },
  {
   "cell_type": "code",
   "execution_count": 35,
   "metadata": {},
   "outputs": [
    {
     "name": "stdout",
     "output_type": "stream",
     "text": [
      "Accuracy:  0.9855\n"
     ]
    }
   ],
   "source": [
    "print_test_accuracy()"
   ]
  },
  {
   "cell_type": "code",
   "execution_count": 36,
   "metadata": {},
   "outputs": [
    {
     "name": "stdout",
     "output_type": "stream",
     "text": [
      "1200: Accuracy train: 0.984375\n",
      "1300: Accuracy train: 0.984375\n",
      "1400: Accuracy train: 0.96875\n",
      "1500: Accuracy train: 0.984375\n",
      "1600: Accuracy train: 1.0   \n",
      "1700: Accuracy train: 1.0   \n",
      "1800: Accuracy train: 0.96875\n",
      "1900: Accuracy train: 1.0   \n",
      "2000: Accuracy train: 0.984375\n",
      "2100: Accuracy train: 1.0   \n",
      "2200: Accuracy train: 1.0   \n",
      "2300: Accuracy train: 1.0   \n",
      "2400: Accuracy train: 1.0   \n",
      "2500: Accuracy train: 1.0   \n",
      "2600: Accuracy train: 0.984375\n",
      "2700: Accuracy train: 1.0   \n",
      "2800: Accuracy train: 1.0   \n",
      "2900: Accuracy train: 1.0   \n",
      "3000: Accuracy train: 1.0   \n",
      "3100: Accuracy train: 1.0   \n",
      "3200: Accuracy train: 1.0   \n",
      "3300: Accuracy train: 0.984375\n",
      "3400: Accuracy train: 1.0   \n",
      "3500: Accuracy train: 1.0   \n",
      "3600: Accuracy train: 0.96875\n",
      "3700: Accuracy train: 1.0   \n",
      "3800: Accuracy train: 1.0   \n",
      "3900: Accuracy train: 1.0   \n",
      "4000: Accuracy train: 1.0   \n",
      "4100: Accuracy train: 1.0   \n",
      "4200: Accuracy train: 1.0   \n",
      "4300: Accuracy train: 0.984375\n",
      "4400: Accuracy train: 0.953125\n",
      "4500: Accuracy train: 1.0   \n",
      "4600: Accuracy train: 0.984375\n",
      "4700: Accuracy train: 1.0   \n",
      "4800: Accuracy train: 0.984375\n",
      "4900: Accuracy train: 1.0   \n",
      "5000: Accuracy train: 1.0   \n",
      "5100: Accuracy train: 1.0   \n",
      "5200: Accuracy train: 1.0   \n",
      "5300: Accuracy train: 1.0   \n",
      "5400: Accuracy train: 1.0   \n",
      "5500: Accuracy train: 1.0   \n",
      "5600: Accuracy train: 1.0   \n",
      "5700: Accuracy train: 1.0   \n",
      "5800: Accuracy train: 0.984375\n",
      "5900: Accuracy train: 0.984375\n",
      "6000: Accuracy train: 1.0   \n",
      "6100: Accuracy train: 1.0   \n"
     ]
    }
   ],
   "source": [
    "optimize(iterations=2000)"
   ]
  },
  {
   "cell_type": "code",
   "execution_count": 37,
   "metadata": {},
   "outputs": [
    {
     "name": "stdout",
     "output_type": "stream",
     "text": [
      "Accuracy:  0.9908\n"
     ]
    }
   ],
   "source": [
    "print_test_accuracy()"
   ]
  },
  {
   "cell_type": "code",
   "execution_count": 36,
   "metadata": {},
   "outputs": [],
   "source": [
    "def plot_conv_layer(layer, image):\n",
    "    # Assume layer is a TensorFlow op that outputs a 4-dim tensor\n",
    "    # which is the output of a convolutional layer,\n",
    "    # e.g. layer_conv1 or layer_conv2.\n",
    "\n",
    "    # Create a feed-dict containing just one image.\n",
    "    # Note that we don't need to feed y_true because it is\n",
    "    # not used in this calculation.\n",
    "    feed_dict = {x: [image]}\n",
    "\n",
    "    # Calculate and retrieve the output values of the layer\n",
    "    # when inputting that image.\n",
    "    values = session.run(layer, feed_dict=feed_dict)\n",
    "\n",
    "    # Number of filters used in the conv. layer.\n",
    "    num_filters = values.shape[3]\n",
    "\n",
    "    # Number of grids to plot.\n",
    "    # Rounded-up, square-root of the number of filters.\n",
    "    num_grids = math.ceil(math.sqrt(num_filters))\n",
    "    \n",
    "    # Create figure with a grid of sub-plots.\n",
    "    fig, axes = plt.subplots(num_grids, num_grids)\n",
    "\n",
    "    # Plot the output images of all the filters.\n",
    "    for i, ax in enumerate(axes.flat):\n",
    "        # Only plot the images for valid filters.\n",
    "        if i<num_filters:\n",
    "            # Get the output image of using the i'th filter.\n",
    "            # See new_conv_layer() for details on the format\n",
    "            # of this 4-dim tensor.\n",
    "            img = values[0, :, :, i]\n",
    "\n",
    "            # Plot image.\n",
    "            ax.imshow(img, interpolation='nearest', cmap='binary')\n",
    "        \n",
    "        # Remove ticks from the plot.\n",
    "        ax.set_xticks([])\n",
    "        ax.set_yticks([])\n",
    "    \n",
    "    # Ensure the plot is shown correctly with multiple plots\n",
    "    # in a single Notebook cell.\n",
    "    plt.show()"
   ]
  },
  {
   "cell_type": "code",
   "execution_count": 42,
   "metadata": {},
   "outputs": [
    {
     "data": {
      "image/png": "[encoded data removed]",
      "text/plain": [
       "<Figure size 432x288 with 16 Axes>"
      ]
     },
     "metadata": {},
     "output_type": "display_data"
    }
   ],
   "source": [
    "image1 = data.x_test[0]\n",
    "\n",
    "plot_conv_layer(layer=conv_layer1, image=image1)"
   ]
  },
  {
   "cell_type": "code",
   "execution_count": 43,
   "metadata": {},
   "outputs": [
    {
     "name": "stdout",
     "output_type": "stream",
     "text": [
      "Accuracy:  0.0892\n"
     ]
    }
   ],
   "source": [
    "print_test_accuracy()"
   ]
  },
  {
   "cell_type": "code",
   "execution_count": null,
   "metadata": {},
   "outputs": [],
   "source": []
  }
 ],
 "metadata": {
  "kernelspec": {
   "display_name": "Python 3",
   "language": "python",
   "name": "python3"
  },
  "language_info": {
   "codemirror_mode": {
    "name": "ipython",
    "version": 3
   },
   "file_extension": ".py",
   "mimetype": "text/x-python",
   "name": "python",
   "nbconvert_exporter": "python",
   "pygments_lexer": "ipython3",
   "version": "3.7.3"
  }
 },
 "nbformat": 4,
 "nbformat_minor": 2
}
