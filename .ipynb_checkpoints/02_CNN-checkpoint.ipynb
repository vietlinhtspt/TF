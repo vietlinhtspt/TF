{
 "cells": [
  {
   "cell_type": "code",
   "execution_count": 3,
   "metadata": {},
   "outputs": [
    {
     "data": {
      "text/plain": [
       "'1.13.1'"
      ]
     },
     "execution_count": 3,
     "metadata": {},
     "output_type": "execute_result"
    }
   ],
   "source": [
    "import numpy as np\n",
    "import tensorflow as tf\n",
    "import matplotlib.pyplot as plt\n",
    "from sklearn.metrics import confusion_matrix\n",
    "tf.__version__"
   ]
  },
  {
   "cell_type": "markdown",
   "metadata": {},
   "source": [
    "## Configuration of Neural Network"
   ]
  },
  {
   "cell_type": "code",
   "execution_count": 4,
   "metadata": {},
   "outputs": [],
   "source": [
    "# Convolutional layer 1\n",
    "filter1_size = 5\n",
    "num_filer1 = 16\n",
    "\n",
    "# Convolutional layer 2\n",
    "filter2_size = 5\n",
    "num_filter2 = 36\n",
    "\n",
    "# Fully-connected layer \n",
    "fc_size = 128"
   ]
  },
  {
   "cell_type": "markdown",
   "metadata": {},
   "source": [
    "## Load data"
   ]
  },
  {
   "cell_type": "code",
   "execution_count": 5,
   "metadata": {},
   "outputs": [],
   "source": [
    "from mnist import MNIST\n",
    "data = MNIST(data_dir=\"data/MNIST/\")"
   ]
  },
  {
   "cell_type": "code",
   "execution_count": 6,
   "metadata": {},
   "outputs": [],
   "source": [
    "x_train = data.x_train\n",
    "y_train = data.y_train\n",
    "y_train_cls = data.y_train_cls\n",
    "\n",
    "x_test = data.x_test\n",
    "y_test = data.y_test\n",
    "y_test_cls = data.y_test_cls"
   ]
  },
  {
   "cell_type": "markdown",
   "metadata": {},
   "source": [
    "## Configuration of Dataset"
   ]
  },
  {
   "cell_type": "code",
   "execution_count": 7,
   "metadata": {},
   "outputs": [],
   "source": [
    "num_train = data.num_train\n",
    "num_test = data.num_test\n",
    "num_classes = data.num_classes\n",
    "# Image shape\n",
    "img_shape = data.img_shape\n",
    "img_size_flat = data.img_size_flat"
   ]
  },
  {
   "cell_type": "markdown",
   "metadata": {},
   "source": [
    "## TODO: Helper-function for ploting images "
   ]
  },
  {
   "cell_type": "code",
   "execution_count": 8,
   "metadata": {},
   "outputs": [],
   "source": [
    "# Helper function for plotting 9x9 images in a grid, writting true and predict labels bellow each image.\n",
    "def plot_images(images, true_labels, pred_labels=None):\n",
    "    assert (len(images) == len(true_labels))\n",
    "    fig, axes = plt.subplots(3, 3)\n",
    "    fig.subplots_adjust(0.3, 0.3)\n",
    "    \n",
    "    for i, ax in enumerate(axes.flat):\n",
    "        # Set images\n",
    "        ax.imshow(images[i].reshape(img_shape), cmap='binary')\n",
    "        \n",
    "        # Set labels\n",
    "        if (pred_labels == None):\n",
    "            xlabel = \"True label: {0}\".format(true_labels[i])\n",
    "        else:\n",
    "            xlabel = \"True label: {0}, Predict label: {1}\".format(true_labels[i], pred_labels[i])\n",
    "        ax.set_xlabel(xlabel)\n",
    "        \n",
    "        # Remove ticks\n",
    "        ax.set_xticks([])\n",
    "        ax.set_yticks([])\n",
    "        \n",
    "    plt.show()\n",
    "    pass"
   ]
  },
  {
   "cell_type": "code",
   "execution_count": 9,
   "metadata": {},
   "outputs": [
    {
     "data": {
      "image/png": "[encoded data removed]",
      "text/plain": [
       "<Figure size 432x288 with 9 Axes>"
      ]
     },
     "metadata": {},
     "output_type": "display_data"
    }
   ],
   "source": [
    "plot_images(x_test[:9], y_test_cls[:9])"
   ]
  },
  {
   "cell_type": "markdown",
   "metadata": {},
   "source": [
    "## TODO: Helper-function for create variables"
   ]
  },
  {
   "cell_type": "code",
   "execution_count": 14,
   "metadata": {},
   "outputs": [],
   "source": [
    "def new_weight(shape):\n",
    "    return tf.Variable(tf.truncated_normal(shape, stddev=0.5))\n",
    "def new_bias(length):\n",
    "    return tf.Variable(tf.constant(value=0.05, shape=[length]))"
   ]
  },
  {
   "cell_type": "markdown",
   "metadata": {},
   "source": [
    "## TODO: Helper-function for create Convolutional layer"
   ]
  },
  {
   "cell_type": "code",
   "execution_count": 18,
   "metadata": {},
   "outputs": [],
   "source": [
    "def new_con_layer(input, \n",
    "                  num_input_channels,\n",
    "                  filter_size, \n",
    "                  num_filters, \n",
    "                  use_pooling):\n",
    "    shape = (filter_size, filter_size, num_input_channels, num_filters)\n",
    "    weights = new_weight(shape)\n",
    "    biases = new_bias(num_filters)\n",
    "    layer = tf.nn.conv2d(input=input, \n",
    "                         filter=weights, \n",
    "                         strides=[1,1,1,1], \n",
    "                         padding=\"SAME\")\n",
    "    # Add bias\n",
    "    layer = layer + biases\n",
    "    # Use pooling\n",
    "    if use_pooling:\n",
    "        layer = tf.nn.max_pool(value=layer, \n",
    "                               ksizes=[1, 2, 2, 1], \n",
    "                               strides=[1, 2, 2, 1], \n",
    "                               padding=\"SAME\")\n",
    "    # Activation function ReLU\n",
    "    layer = tf.nn.relu(layer)\n",
    "    return layer, weights"
   ]
  },
  {
   "cell_type": "markdown",
   "metadata": {},
   "source": [
    "## TODO: Helper-function for plattening a layer"
   ]
  },
  {
   "cell_type": "code",
   "execution_count": 20,
   "metadata": {},
   "outputs": [],
   "source": [
    "def flatten_layer(layer):\n",
    "    # Get the shape of the input layer.\n",
    "    layer_shape = layer.get_shape()\n",
    "\n",
    "    # The shape of the input layer is assumed to be:\n",
    "    # layer_shape == [num_images, img_height, img_width, num_channels]\n",
    "\n",
    "    # The number of features is: img_height * img_width * num_channels\n",
    "    # We can use a function from TensorFlow to calculate this.\n",
    "    num_features = layer_shape[1:4].num_elements()\n",
    "    \n",
    "    # Reshape the layer to [num_images, num_features].\n",
    "    # Note that we just set the size of the second dimension\n",
    "    # to num_features and the size of the first dimension to -1\n",
    "    # which means the size in that dimension is calculated\n",
    "    # so the total size of the tensor is unchanged from the reshaping.\n",
    "    layer_flat = tf.reshape(layer, [-1, num_features])\n",
    "\n",
    "    # The shape of the flattened layer is now:\n",
    "    # [num_images, img_height * img_width * num_channels]\n",
    "\n",
    "    # Return both the flattened layer and the number of features.\n",
    "    return layer_flat, num_features"
   ]
  },
  {
   "cell_type": "markdown",
   "metadata": {},
   "source": [
    "## TODO: Helper-function for create Fully-connected layer"
   ]
  },
  {
   "cell_type": "code",
   "execution_count": 19,
   "metadata": {},
   "outputs": [],
   "source": [
    "def new_fc_layer(input, \n",
    "                 num_input_channels, \n",
    "                 num_output, \n",
    "                 use_relu=True):\n",
    "    weights = new_weight(shape=[num_input_channels, num_output])\n",
    "    biases = new_bias(num_output)\n",
    "    output = tf.linalg.matmul(input, weights) + biases\n",
    "    if use_relu:\n",
    "        output = tf.nn.relu(output)\n",
    "        \n",
    "    return output"
   ]
  },
  {
   "cell_type": "markdown",
   "metadata": {},
   "source": [
    "# TODO: Placeholder"
   ]
  },
  {
   "cell_type": "code",
   "execution_count": null,
   "metadata": {},
   "outputs": [],
   "source": []
  }
 ],
 "metadata": {
  "kernelspec": {
   "display_name": "Python 3",
   "language": "python",
   "name": "python3"
  },
  "language_info": {
   "codemirror_mode": {
    "name": "ipython",
    "version": 3
   },
   "file_extension": ".py",
   "mimetype": "text/x-python",
   "name": "python",
   "nbconvert_exporter": "python",
   "pygments_lexer": "ipython3",
   "version": "3.7.3"
  }
 },
 "nbformat": 4,
 "nbformat_minor": 2
}
