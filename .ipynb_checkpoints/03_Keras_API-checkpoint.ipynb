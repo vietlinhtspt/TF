{
 "cells": [
  {
   "cell_type": "code",
   "execution_count": 2,
   "metadata": {},
   "outputs": [
    {
     "name": "stdout",
     "output_type": "stream",
     "text": [
      "1.13.1\n"
     ]
    }
   ],
   "source": [
    "import tensorflow as tf\n",
    "import numpy as np\n",
    "import matplotlib.pyplot as plt\n",
    "import math\n",
    "print(tf.__version__)"
   ]
  },
  {
   "cell_type": "code",
   "execution_count": 47,
   "metadata": {},
   "outputs": [],
   "source": [
    "# from tf.keras.models import Sequential  # This does not work!\n",
    "from tensorflow.keras.layers import MaxPool2D, Conv2D, Dense, Flatten\n",
    "from tensorflow.keras.optimizers import Adam\n",
    "from tensorflow.python.keras.models import Sequential\n",
    "from tensorflow.python.keras.layers import InputLayer, Input\n",
    "from tensorflow.python.keras.layers import Reshape"
   ]
  },
  {
   "cell_type": "code",
   "execution_count": 41,
   "metadata": {},
   "outputs": [],
   "source": [
    "from mnist import MNIST\n",
    "data = MNIST(data_dir=\"data/MNIST/\")\n",
    "# Copy some dimension \n",
    "img_size = data.img_size\n",
    "img_size_flat = data.img_size_flat\n",
    "num_classes = data.num_classes\n",
    "img_shape = data.img_shape\n",
    "img_shape_full = data.img_shape_full"
   ]
  },
  {
   "cell_type": "code",
   "execution_count": 42,
   "metadata": {},
   "outputs": [],
   "source": [
    "def plot_images(images, true_labels, pred_labels=None):\n",
    "    assert (len(images) == len(true_labels) == 9)\n",
    "    # Create 12 subplots but just use 9 subplots\n",
    "    fig, axes = plt.subplots(3, 3)\n",
    "    fig.subplots_adjust(0.3, 0.3)\n",
    "    \n",
    "    for i, ax in enumerate(axes.flat):\n",
    "        ax.imshow(images[i].reshape(img_shape), cmap='binary')\n",
    "        \n",
    "        # Set label\n",
    "        if pred_labels is None:\n",
    "            xlabel = \"True label: {0}\".format(true_labels[i])\n",
    "        else: \n",
    "            xlabel = \"True label: {0}, Pred label: {1}\".format(true_labels[i], pred_labels[i])\n",
    "\n",
    "        ax.set_xlabel(xlabel)\n",
    "        # Remove tcicks\n",
    "        ax.set_xticks([])\n",
    "        ax.set_yticks([])\n",
    "        \n",
    "    plt.show()"
   ]
  },
  {
   "cell_type": "code",
   "execution_count": 43,
   "metadata": {},
   "outputs": [
    {
     "data": {
      "image/png": "[encoded data removed]",
      "text/plain": [
       "<Figure size 432x288 with 9 Axes>"
      ]
     },
     "metadata": {},
     "output_type": "display_data"
    }
   ],
   "source": [
    "# Get the first images from the test-set.\n",
    "images = data.x_test[0:9]\n",
    "labels = data.y_test_cls[0:9]\n",
    "plot_images(images, labels)"
   ]
  },
  {
   "cell_type": "code",
   "execution_count": 46,
   "metadata": {},
   "outputs": [],
   "source": [
    "model = Sequential()\n",
    "# Input\n",
    "model.add(InputLayer(input_shape=(img_size_flat, )))\n",
    "model.add(Reshape(img_shape_full))\n",
    "# Convolution layer 1\n",
    "model.add(Conv2D(filters=16, \n",
    "                 kernel_size=5,\n",
    "                 strides=1, \n",
    "                 padding='same', \n",
    "                 activation='relu'))\n",
    "model.add(MaxPool2D(pool_size=(2, 2), \n",
    "                    strides=2, \n",
    "                    padding='same'))\n",
    "# Convolution layer 2\n",
    "model.add(Conv2D(filters=36, \n",
    "                 kernel_size=5, \n",
    "                 strides=1, \n",
    "                 padding='same', \n",
    "                 activation='relu'))\n",
    "model.add(MaxPool2D(pool_size=(2, 2), \n",
    "                    strides=2, \n",
    "                    padding='same'))\n",
    "model.add(Flatten())\n",
    "model.add(Dense(units=128, \n",
    "                activation='relu'))\n",
    "model.add(Dense(units=10, \n",
    "                activation='softmax'))"
   ]
  },
  {
   "cell_type": "code",
   "execution_count": 50,
   "metadata": {},
   "outputs": [],
   "source": [
    "# Optimizer\n",
    "optimizer = Adam(lr=0.001)\n",
    "model.compile(optimizer=optimizer,\n",
    "              loss='categorical_crossentropy',\n",
    "              metrics=['accuracy'])"
   ]
  },
  {
   "cell_type": "code",
   "execution_count": 52,
   "metadata": {},
   "outputs": [
    {
     "name": "stdout",
     "output_type": "stream",
     "text": [
      "WARNING:tensorflow:From /home/ubuntu/anaconda3/envs/tensorflow_env/lib/python3.7/site-packages/tensorflow/python/ops/math_ops.py:3066: to_int32 (from tensorflow.python.ops.math_ops) is deprecated and will be removed in a future version.\n",
      "Instructions for updating:\n",
      "Use tf.cast instead.\n",
      "55000/55000 [==============================] - 25s 448us/sample - loss: 0.2238 - acc: 0.9345\n"
     ]
    },
    {
     "data": {
      "text/plain": [
       "<tensorflow.python.keras.callbacks.History at 0x7fe8184f9a58>"
      ]
     },
     "execution_count": 52,
     "metadata": {},
     "output_type": "execute_result"
    }
   ],
   "source": [
    "model.fit(x=data.x_train, \n",
    "            y=data.y_train, \n",
    "            epochs=1, \n",
    "            batch_size=128)"
   ]
  },
  {
   "cell_type": "code",
   "execution_count": 53,
   "metadata": {},
   "outputs": [
    {
     "name": "stdout",
     "output_type": "stream",
     "text": [
      "10000/10000 [==============================] - 2s 241us/sample - loss: 0.0572 - acc: 0.9829\n"
     ]
    }
   ],
   "source": [
    "result = model.evaluate(x=data.x_test, \n",
    "                        y=data.y_test)"
   ]
  },
  {
   "cell_type": "code",
   "execution_count": 54,
   "metadata": {},
   "outputs": [
    {
     "name": "stdout",
     "output_type": "stream",
     "text": [
      "loss 0.05722862852243706\n",
      "acc 0.9829\n"
     ]
    }
   ],
   "source": [
    "for name, value in zip(model.metrics_names, result):\n",
    "    print(name, value)"
   ]
  },
  {
   "cell_type": "code",
   "execution_count": 58,
   "metadata": {},
   "outputs": [
    {
     "data": {
      "image/png": "[encoded data removed]",
      "text/plain": [
       "<Figure size 432x288 with 9 Axes>"
      ]
     },
     "metadata": {},
     "output_type": "display_data"
    }
   ],
   "source": [
    "# Prediction \n",
    "images = data.x_test[0:9]\n",
    "true_labels = data.y_test_cls[0:9]\n",
    "pred_labels = model.predict(x=images)\n",
    "pred_labels_cls = np.argmax(pred_labels, axis=1)\n",
    "plot_images(images, true_labels, pred_labels_cls)"
   ]
  },
  {
   "cell_type": "code",
   "execution_count": null,
   "metadata": {},
   "outputs": [],
   "source": []
  }
 ],
 "metadata": {
  "kernelspec": {
   "display_name": "Python 3",
   "language": "python",
   "name": "python3"
  },
  "language_info": {
   "codemirror_mode": {
    "name": "ipython",
    "version": 3
   },
   "file_extension": ".py",
   "mimetype": "text/x-python",
   "name": "python",
   "nbconvert_exporter": "python",
   "pygments_lexer": "ipython3",
   "version": "3.7.3"
  }
 },
 "nbformat": 4,
 "nbformat_minor": 2
}
