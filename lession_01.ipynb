{
 "cells": [
  {
   "cell_type": "code",
   "execution_count": 1,
   "metadata": {},
   "outputs": [
    {
     "data": {
      "text/plain": [
       "'1.13.1'"
      ]
     },
     "execution_count": 1,
     "metadata": {},
     "output_type": "execute_result"
    }
   ],
   "source": [
    "import matplotlib.pyplot as plt\n",
    "import tensorflow as tf\n",
    "import numpy as np\n",
    "from sklearn.metrics import confusion_matrix \n",
    "tf.__version__"
   ]
  },
  {
   "cell_type": "code",
   "execution_count": 2,
   "metadata": {},
   "outputs": [
    {
     "name": "stdout",
     "output_type": "stream",
     "text": [
      "\n",
      "WARNING: The TensorFlow contrib module will not be included in TensorFlow 2.0.\n",
      "For more information, please see:\n",
      "  * https://github.com/tensorflow/community/blob/master/rfcs/20180907-contrib-sunset.md\n",
      "  * https://github.com/tensorflow/addons\n",
      "If you depend on functionality not listed there, please file an issue.\n",
      "\n",
      "WARNING:tensorflow:From /home/ubuntu/anaconda3/envs/tensorflow_env/lib/python3.7/site-packages/tensorflow/python/ops/control_flow_ops.py:423: colocate_with (from tensorflow.python.framework.ops) is deprecated and will be removed in a future version.\n",
      "Instructions for updating:\n",
      "Colocations handled automatically by placer.\n"
     ]
    },
    {
     "name": "stderr",
     "output_type": "stream",
     "text": [
      "WARNING: Logging before flag parsing goes to stderr.\n",
      "W0707 10:08:16.298053 140477806012224 deprecation.py:323] From /home/ubuntu/anaconda3/envs/tensorflow_env/lib/python3.7/site-packages/tensorflow/python/ops/control_flow_ops.py:423: colocate_with (from tensorflow.python.framework.ops) is deprecated and will be removed in a future version.\n",
      "Instructions for updating:\n",
      "Colocations handled automatically by placer.\n"
     ]
    },
    {
     "data": {
      "text/plain": [
       "<DatasetV1Adapter shapes: {image: (28, 28, 1), label: ()}, types: {image: tf.uint8, label: tf.int64}>"
      ]
     },
     "execution_count": 2,
     "metadata": {},
     "output_type": "execute_result"
    }
   ],
   "source": [
    "# Import tensorflow datatset for load MINIST data-set\n",
    "import tensorflow_datasets as tfds\n",
    "# Load MNIST data\n",
    "mnist_train = tfds.load(name=\"mnist\", split=tfds.Split.TRAIN)\n",
    "mnist_test = tfds.load(name=\"mnist\", split=tfds.Split.TEST)\n",
    "mnist_train"
   ]
  },
  {
   "cell_type": "code",
   "execution_count": 3,
   "metadata": {},
   "outputs": [
    {
     "data": {
      "text/plain": [
       "<DatasetV1Adapter shapes: {image: (?, 28, 28, 1), label: (?,)}, types: {image: tf.uint8, label: tf.int64}>"
      ]
     },
     "execution_count": 3,
     "metadata": {},
     "output_type": "execute_result"
    }
   ],
   "source": [
    "# Converse data-set to batch data-set size = 30 for loading Asynochoric processs\n",
    "mnist_train = mnist_train.repeat().shuffle(1024).batch(30)\n",
    "mnist_train"
   ]
  },
  {
   "cell_type": "code",
   "execution_count": 4,
   "metadata": {},
   "outputs": [
    {
     "data": {
      "text/plain": [
       "<DatasetV1Adapter shapes: {image: (?, 28, 28, 1), label: (?,)}, types: {image: tf.uint8, label: tf.int64}>"
      ]
     },
     "execution_count": 4,
     "metadata": {},
     "output_type": "execute_result"
    }
   ],
   "source": [
    "# Prefetch will enable the input pipeline to asynchronously fetch batches while our model is training.\n",
    "mnist_train = mnist_train.prefetch(tf.data.experimental.AUTOTUNE)\n",
    "mnist_train\n",
    "# Now you could loop over batches of the dataset and train\n",
    "# for batch in mnist_train:\n",
    "#   ..."
   ]
  },
  {
   "cell_type": "code",
   "execution_count": 5,
   "metadata": {},
   "outputs": [],
   "source": [
    "import os\n",
    "import functools\n",
    "import operator\n",
    "import gzip\n",
    "import struct\n",
    "import array\n",
    "import tempfile\n",
    "try:\n",
    "    from urllib.request import urlretrieve\n",
    "except ImportError:\n",
    "    from urllib import urlretrieve  # py2\n",
    "try:\n",
    "    from urllib.parse import urljoin\n",
    "except ImportError:\n",
    "    from urlparse import urljoin\n",
    "import numpy\n",
    "\n",
    "\n",
    "__version__ = '0.2.2'\n",
    "\n",
    "\n",
    "# `datasets_url` and `temporary_dir` can be set by the user using:\n",
    "# >>> mnist.datasets_url = 'http://my.mnist.url'\n",
    "# >>> mnist.temporary_dir = lambda: '/tmp/mnist'\n",
    "datasets_url = 'http://yann.lecun.com/exdb/mnist/'\n",
    "temporary_dir = tempfile.gettempdir\n",
    "\n",
    "\n",
    "class IdxDecodeError(ValueError):\n",
    "    \"\"\"Raised when an invalid idx file is parsed.\"\"\"\n",
    "    pass\n",
    "\n",
    "\n",
    "def download_file(fname, target_dir=None, force=False):\n",
    "    \"\"\"Download fname from the datasets_url, and save it to target_dir,\n",
    "    unless the file already exists, and force is False.\n",
    "    Parameters\n",
    "    ----------\n",
    "    fname : str\n",
    "        Name of the file to download\n",
    "    target_dir : str\n",
    "        Directory where to store the file\n",
    "    force : bool\n",
    "        Force downloading the file, if it already exists\n",
    "    Returns\n",
    "    -------\n",
    "    fname : str\n",
    "        Full path of the downloaded file\n",
    "    \"\"\"\n",
    "    target_dir = target_dir or temporary_dir()\n",
    "    target_fname = os.path.join(target_dir, fname)\n",
    "\n",
    "    if force or not os.path.isfile(target_fname):\n",
    "        url = urljoin(datasets_url, fname)\n",
    "        urlretrieve(url, target_fname)\n",
    "\n",
    "    return target_fname\n",
    "\n",
    "\n",
    "def parse_idx(fd):\n",
    "    \"\"\"Parse an IDX file, and return it as a numpy array.\n",
    "    Parameters\n",
    "    ----------\n",
    "    fd : file\n",
    "        File descriptor of the IDX file to parse\n",
    "    endian : str\n",
    "        Byte order of the IDX file. See [1] for available options\n",
    "    Returns\n",
    "    -------\n",
    "    data : numpy.ndarray\n",
    "        Numpy array with the dimensions and the data in the IDX file\n",
    "    1. https://docs.python.org/3/library/struct.html\n",
    "        #byte-order-size-and-alignment\n",
    "    \"\"\"\n",
    "    DATA_TYPES = {0x08: 'B',  # unsigned byte\n",
    "                  0x09: 'b',  # signed byte\n",
    "                  0x0b: 'h',  # short (2 bytes)\n",
    "                  0x0c: 'i',  # int (4 bytes)\n",
    "                  0x0d: 'f',  # float (4 bytes)\n",
    "                  0x0e: 'd'}  # double (8 bytes)\n",
    "\n",
    "    header = fd.read(4)\n",
    "    if len(header) != 4:\n",
    "        raise IdxDecodeError('Invalid IDX file, '\n",
    "                             'file empty or does not contain a full header.')\n",
    "\n",
    "    zeros, data_type, num_dimensions = struct.unpack('>HBB', header)\n",
    "\n",
    "    if zeros != 0:\n",
    "        raise IdxDecodeError('Invalid IDX file, '\n",
    "                             'file must start with two zero bytes. '\n",
    "                             'Found 0x%02x' % zeros)\n",
    "\n",
    "    try:\n",
    "        data_type = DATA_TYPES[data_type]\n",
    "    except KeyError:\n",
    "        raise IdxDecodeError('Unknown data type '\n",
    "                             '0x%02x in IDX file' % data_type)\n",
    "\n",
    "    dimension_sizes = struct.unpack('>' + 'I' * num_dimensions,\n",
    "                                    fd.read(4 * num_dimensions))\n",
    "\n",
    "    data = array.array(data_type, fd.read())\n",
    "    data.byteswap()  # looks like array.array reads data as little endian\n",
    "\n",
    "    expected_items = functools.reduce(operator.mul, dimension_sizes)\n",
    "    if len(data) != expected_items:\n",
    "        raise IdxDecodeError('IDX file has wrong number of items. '\n",
    "                             'Expected: %d. Found: %d' % (expected_items,\n",
    "                                                          len(data)))\n",
    "\n",
    "    return numpy.array(data).reshape(dimension_sizes)\n",
    "\n",
    "\n",
    "def download_and_parse_mnist_file(fname, target_dir=None, force=False):\n",
    "    \"\"\"Download the IDX file named fname from the URL specified in dataset_url\n",
    "    and return it as a numpy array.\n",
    "    Parameters\n",
    "    ----------\n",
    "    fname : str\n",
    "        File name to download and parse\n",
    "    target_dir : str\n",
    "        Directory where to store the file\n",
    "    force : bool\n",
    "        Force downloading the file, if it already exists\n",
    "    Returns\n",
    "    -------\n",
    "    data : numpy.ndarray\n",
    "        Numpy array with the dimensions and the data in the IDX file\n",
    "    \"\"\"\n",
    "    fname = download_file(fname, target_dir=target_dir, force=force)\n",
    "    fopen = gzip.open if os.path.splitext(fname)[1] == '.gz' else open\n",
    "    with fopen(fname, 'rb') as fd:\n",
    "        return parse_idx(fd)\n",
    "\n",
    "\n",
    "def train_images():\n",
    "    \"\"\"Return train images from Yann LeCun MNIST database as a numpy array.\n",
    "    Download the file, if not already found in the temporary directory of\n",
    "    the system.\n",
    "    Returns\n",
    "    -------\n",
    "    train_images : numpy.ndarray\n",
    "        Numpy array with the images in the train MNIST database. The first\n",
    "        dimension indexes each sample, while the other two index rows and\n",
    "        columns of the image\n",
    "    \"\"\"\n",
    "    return download_and_parse_mnist_file('train-images-idx3-ubyte.gz')\n",
    "\n",
    "\n",
    "def test_images():\n",
    "    \"\"\"Return test images from Yann LeCun MNIST database as a numpy array.\n",
    "    Download the file, if not already found in the temporary directory of\n",
    "    the system.\n",
    "    Returns\n",
    "    -------\n",
    "    test_images : numpy.ndarray\n",
    "        Numpy array with the images in the train MNIST database. The first\n",
    "        dimension indexes each sample, while the other two index rows and\n",
    "        columns of the image\n",
    "    \"\"\"\n",
    "    return download_and_parse_mnist_file('t10k-images-idx3-ubyte.gz')\n",
    "\n",
    "\n",
    "def train_labels():\n",
    "    \"\"\"Return train labels from Yann LeCun MNIST database as a numpy array.\n",
    "    Download the file, if not already found in the temporary directory of\n",
    "    the system.\n",
    "    Returns\n",
    "    -------\n",
    "    train_labels : numpy.ndarray\n",
    "        Numpy array with the labels 0 to 9 in the train MNIST database.\n",
    "    \"\"\"\n",
    "    return download_and_parse_mnist_file('train-labels-idx1-ubyte.gz')\n",
    "\n",
    "\n",
    "def test_labels():\n",
    "    \"\"\"Return test labels from Yann LeCun MNIST database as a numpy array.\n",
    "    Download the file, if not already found in the temporary directory of\n",
    "    the system.\n",
    "    Returns\n",
    "    -------\n",
    "    test_labels : numpy.ndarray\n",
    "        Numpy array with the labels 0 to 9 in the train MNIST database.\n",
    "    \"\"\"\n",
    "    return download_and_parse_mnist_file('t10k-labels-idx1-ubyte.gz')"
   ]
  },
  {
   "cell_type": "code",
   "execution_count": 6,
   "metadata": {},
   "outputs": [],
   "source": [
    "train_images = train_images()\n",
    "train_labels = train_labels()\n",
    "test_images = test_images()\n",
    "test_labels = test_labels()\n",
    "\n",
    "img_size_flat = 28 * 28\n",
    "num_class = 10\n",
    "img_shape = [28, 28]"
   ]
  },
  {
   "cell_type": "markdown",
   "metadata": {},
   "source": [
    "Helper-support for plotting images"
   ]
  },
  {
   "cell_type": "code",
   "execution_count": 31,
   "metadata": {},
   "outputs": [],
   "source": [
    "def plot_images(images, true_labels, predict_labels = None):\n",
    "    assert len(images) == len(true_labels)\n",
    "\n",
    "    #Creating figure with 3x3 sub-plots\n",
    "    fig, axes = plt.subplots(3, 3)\n",
    "    fig.subplots_adjust(hspace = 0.3, wspace = 0.3)\n",
    "    for i, ax in enumerate(axes.flat):\n",
    "        #Plotting image\n",
    "        ax.imshow(images[i].reshape(img_shape), cmap = \"binary\")\n",
    "        \n",
    "        #Create label below each image\n",
    "        if predict_labels is None:\n",
    "            label = \"True: {0}\".format(true_labels[i])\n",
    "        else:\n",
    "            label = \"True: {0}. Predict: {1}\".format(true_labels[i], predict_labels[i])\n",
    "        \n",
    "        ax.set_xlabel(label)\n",
    "        # Remove ticks from the plot.\n",
    "        ax.set_xticks([])\n",
    "        ax.set_yticks([])\n",
    "        \n",
    "    # Ensure the plot is shown correctly with multiple plots\n",
    "    # in a single Notebook cell.\n",
    "    plt.show()"
   ]
  },
  {
   "cell_type": "code",
   "execution_count": 32,
   "metadata": {},
   "outputs": [
    {
     "data": {
      "image/png": "[encoded data removed]",
      "text/plain": [
       "<Figure size 432x288 with 9 Axes>"
      ]
     },
     "metadata": {},
     "output_type": "display_data"
    }
   ],
   "source": [
    "images = train_images[0:9]\n",
    "true_labels = train_labels[0:9]\n",
    "plot_images(images, true_labels)"
   ]
  },
  {
   "cell_type": "code",
   "execution_count": 9,
   "metadata": {},
   "outputs": [],
   "source": [
    "x = tf.placeholder(tf.float32, [None, img_size_flat])\n",
    "y_true = tf.placeholder(tf.float32, [None, num_class])\n",
    "y_true_cls = tf.placeholder(tf.int64, [None])"
   ]
  },
  {
   "cell_type": "code",
   "execution_count": 10,
   "metadata": {},
   "outputs": [],
   "source": [
    "weight = tf.Variable(tf.zeros([img_size_flat, num_class]))\n",
    "bias = tf.Variable(tf.zeros([num_class]))"
   ]
  },
  {
   "cell_type": "code",
   "execution_count": 11,
   "metadata": {},
   "outputs": [],
   "source": [
    "logits = tf.matmul(x, weight) + bias\n",
    "y_predict = tf.nn.softmax(logits)\n",
    "y_predict_cls = tf.argmax(y_predict, axis = 1)"
   ]
  },
  {
   "cell_type": "code",
   "execution_count": 12,
   "metadata": {},
   "outputs": [],
   "source": [
    "cross_entropy = tf.nn.softmax_cross_entropy_with_logits_v2(logits = logits,\n",
    "                                                 labels = y_true)\n",
    "cost = tf.reduce_mean(cross_entropy)"
   ]
  },
  {
   "cell_type": "code",
   "execution_count": 13,
   "metadata": {},
   "outputs": [],
   "source": [
    "optimizer = tf.train.GradientDescentOptimizer(learning_rate = 0.5).minimize(cost)"
   ]
  },
  {
   "cell_type": "code",
   "execution_count": 14,
   "metadata": {},
   "outputs": [],
   "source": [
    "correct_pred = tf.equal(y_true_cls, y_predict_cls)"
   ]
  },
  {
   "cell_type": "code",
   "execution_count": 15,
   "metadata": {},
   "outputs": [],
   "source": [
    "accuracy = tf.reduce_mean(tf.cast(correct_pred, tf.float32))"
   ]
  },
  {
   "cell_type": "raw",
   "metadata": {},
   "source": [
    "Session"
   ]
  },
  {
   "cell_type": "code",
   "execution_count": 16,
   "metadata": {},
   "outputs": [],
   "source": [
    "#create session\n",
    "session = tf.Session()\n",
    "#Initialize all variable\n",
    "session.run(tf.global_variables_initializer())"
   ]
  },
  {
   "cell_type": "raw",
   "metadata": {},
   "source": [
    "Helper function for perform optimization interator"
   ]
  },
  {
   "cell_type": "code",
   "execution_count": 66,
   "metadata": {},
   "outputs": [],
   "source": [
    "#This function auto create batch file \n",
    "def random_batch_narray(images, labels, batch_size):\n",
    "    # Get random batch_size element\n",
    "    random_number = np.random.randint(len(images) - 1, size=batch_size)\n",
    "    \n",
    "    return images[random_number], labels[random_number]"
   ]
  },
  {
   "cell_type": "code",
   "execution_count": 74,
   "metadata": {},
   "outputs": [],
   "source": [
    "def create_1_hot_endcoding(labels, num_class):\n",
    "    one_hot_array = np.zeros([len(labels), num_class])\n",
    "    for i, label in enumerate(labels):\n",
    "        one_hot_array[i][label] = 1\n",
    "    \n",
    "    return one_hot_array"
   ]
  },
  {
   "cell_type": "code",
   "execution_count": 89,
   "metadata": {},
   "outputs": [],
   "source": [
    "def optimize(num_interator):\n",
    "    for i in range(0,num_interator):\n",
    "        BATCH_SIZE = 100\n",
    "        #create batch file\n",
    "        batch_img_train, batch_label_train = random_batch_narray(train_images, train_labels, BATCH_SIZE)\n",
    "        #create .....\n",
    "        # batch img train has shape [100, 28, 28]. Can reshape to [100, 784] to train.\n",
    "        feed_dict_train = {x: batch_img_train.reshape(-1, 784), y_true: create_1_hot_endcoding(batch_label_train, num_class)}\n",
    "        #run session\n",
    "        session.run(optimizer, feed_dict = feed_dict_train)\n",
    "    return"
   ]
  },
  {
   "cell_type": "raw",
   "metadata": {},
   "source": [
    "Helper-Function to show peformance"
   ]
  },
  {
   "cell_type": "code",
   "execution_count": 19,
   "metadata": {},
   "outputs": [
    {
     "name": "stdout",
     "output_type": "stream",
     "text": [
      "(10000, 784)\n",
      "(10000,)\n"
     ]
    }
   ],
   "source": [
    "# Reshape test_images to [-1, 784]\n",
    "test_images_2d = test_images.reshape(-1, 784)\n",
    "feed_dict_test = {x: test_images_2d,\n",
    "                  y_true_cls: test_labels}\n",
    "print(test_images_2d.shape)\n",
    "print(test_labels.shape)"
   ]
  },
  {
   "cell_type": "code",
   "execution_count": 20,
   "metadata": {},
   "outputs": [],
   "source": [
    "def print_accuracy():\n",
    "    #use tensorflow to calculate accurancy\n",
    "    acc = session.run(accuracy, feed_dict=feed_dict_test)\n",
    "\n",
    "    #print accurancy \n",
    "    print(\"Accuracy: {0:.1%}\".format(acc))"
   ]
  },
  {
   "cell_type": "code",
   "execution_count": 21,
   "metadata": {},
   "outputs": [],
   "source": [
    "def print_confusion_matrix():\n",
    "    # Get true class\n",
    "    cls_true = y_true\n",
    "    # Get predict class\n",
    "    cls_predict = session.run(y_pred_cls, feed_dict = feed_dict_test)\n",
    "    # Get the confusion matrix using sk-learn\n",
    "    cm = confusion_matrix(y_true = cls_true,\n",
    "                          y_pred = cls_pred)\n",
    "    # Print the confusion matrix as the text\n",
    "    print(cm)\n",
    "    # Plot the confusion matrix as an image.\n",
    "    plt.imshow(cm, interpolation='nearest', cmap=plt.cm.Blues)\n",
    "\n",
    "    # Make various adjustments to the plot.\n",
    "    plt.tight_layout()\n",
    "    plt.colorbar()\n",
    "    tick_marks = np.arange(num_classes)\n",
    "    plt.xticks(tick_marks, range(num_classes))\n",
    "    plt.yticks(tick_marks, range(num_classes))\n",
    "    plt.xlabel('Predicted')\n",
    "    plt.ylabel('True')\n",
    "    \n",
    "    # Ensure the plot is shown correctly with multiple plots\n",
    "    # in a single Notebook cell.\n",
    "    plt.show()"
   ]
  },
  {
   "cell_type": "code",
   "execution_count": 22,
   "metadata": {},
   "outputs": [],
   "source": [
    "def plot_example_errors():\n",
    "    # Use Tensorflow to get a list of boolean values\n",
    "    # whether each images is has been correctly,\n",
    "    # and a list for predicted class of each test images.\n",
    "    correct, cls_pred = session.run([correct_pred, y_predict_cls], \n",
    "                                     feed_dict = feed_dict_test)\n",
    "    # Negative boolean array\n",
    "    incorrect = (correct == False)\n",
    "    \n",
    "    # Get the images from test set have been predict incorrect \n",
    "    images_incorrect = test_images[incorrect]\n",
    "    \n",
    "    # Get the predict label of those images\n",
    "    pred_incorrect = cls_pred[incorrect]\n",
    "    \n",
    "    # Get the true label of those images \n",
    "    true_label = test_labels[incorrect]\n",
    "    plot_images(images_incorrect[0:9],\n",
    "                true_label[0:9],\n",
    "                pred_incorrect[0:9])"
   ]
  },
  {
   "cell_type": "raw",
   "metadata": {},
   "source": [
    "Helper_function for plot the model weight"
   ]
  },
  {
   "cell_type": "code",
   "execution_count": 84,
   "metadata": {},
   "outputs": [],
   "source": [
    "def plot_weight():\n",
    "    w = session.run(weight)\n",
    "    \n",
    "    # Get the min, max weight.\n",
    "    # This using to correct the colour intensty accros \n",
    "    # images to compare with orther images.\n",
    "    w_min = np.min(w)\n",
    "    w_max = np.max(w)\n",
    "    \n",
    "    # Create figure with 3x4 subplot,\n",
    "    # where the 2 last sublot is unused.\n",
    "    fig, axes = plt.subplots(3, 4)\n",
    "    fig.subplots_adjust(hspace = 0.3, \n",
    "                        wspace = 0.3)\n",
    "    \n",
    "    for i, ax in enumerate(axes.flat):\n",
    "        if i < 10:\n",
    "            # Get the weights for the i'th digit and reshape it.\n",
    "            # Note that w.shape == (img_size_flat, 10)\n",
    "            image = w[:, i].reshape(img_shape)\n",
    "\n",
    "            # Set the label for the sub-plot.\n",
    "            ax.set_xlabel(\"Weights: {0}\".format(i))\n",
    "\n",
    "            # Plot the image.\n",
    "            ax.imshow(image, vmin=w_min, vmax=w_max, cmap='seismic')\n",
    "\n",
    "        # Remove ticks from each sub-plot.\n",
    "        ax.set_xticks([])\n",
    "        ax.set_yticks([])\n",
    "        \n",
    "    # Ensure the plot is shown correctly with multiple plots\n",
    "    # in a single Notebook cell.\n",
    "    plt.show()"
   ]
  },
  {
   "cell_type": "code",
   "execution_count": 24,
   "metadata": {},
   "outputs": [
    {
     "name": "stdout",
     "output_type": "stream",
     "text": [
      "Accuracy: 9.8%\n"
     ]
    }
   ],
   "source": [
    "print_accuracy()"
   ]
  },
  {
   "cell_type": "code",
   "execution_count": 33,
   "metadata": {},
   "outputs": [
    {
     "data": {
      "image/png": "[encoded data removed]",
      "text/plain": [
       "<Figure size 432x288 with 9 Axes>"
      ]
     },
     "metadata": {},
     "output_type": "display_data"
    }
   ],
   "source": [
    "plot_example_errors()"
   ]
  },
  {
   "cell_type": "markdown",
   "metadata": {},
   "source": [
    "Perform an 1 optimize iterator"
   ]
  },
  {
   "cell_type": "code",
   "execution_count": 75,
   "metadata": {},
   "outputs": [
    {
     "name": "stdout",
     "output_type": "stream",
     "text": [
      "100\n"
     ]
    }
   ],
   "source": [
    "optimize(1)"
   ]
  },
  {
   "cell_type": "code",
   "execution_count": 76,
   "metadata": {},
   "outputs": [
    {
     "name": "stdout",
     "output_type": "stream",
     "text": [
      "Accuracy: 43.2%\n"
     ]
    }
   ],
   "source": [
    "print_accuracy()"
   ]
  },
  {
   "cell_type": "code",
   "execution_count": 85,
   "metadata": {},
   "outputs": [
    {
     "data": {
      "image/png": "[encoded data removed]",
      "text/plain": [
       "<Figure size 432x288 with 12 Axes>"
      ]
     },
     "metadata": {},
     "output_type": "display_data"
    }
   ],
   "source": [
    "plot_weight()"
   ]
  },
  {
   "cell_type": "markdown",
   "metadata": {},
   "source": [
    "Perform 10 interator"
   ]
  },
  {
   "cell_type": "code",
   "execution_count": 86,
   "metadata": {},
   "outputs": [
    {
     "name": "stdout",
     "output_type": "stream",
     "text": [
      "100\n",
      "100\n",
      "100\n",
      "100\n",
      "100\n",
      "100\n",
      "100\n",
      "100\n",
      "100\n",
      "Accuracy: 57.2%\n"
     ]
    }
   ],
   "source": [
    "# We have run 1 iterator before\n",
    "optimize(9)\n",
    "print_accuracy()"
   ]
  },
  {
   "cell_type": "code",
   "execution_count": 87,
   "metadata": {},
   "outputs": [
    {
     "data": {
      "image/png": "[encoded data removed]",
      "text/plain": [
       "<Figure size 432x288 with 12 Axes>"
      ]
     },
     "metadata": {},
     "output_type": "display_data"
    }
   ],
   "source": [
    "plot_weight()"
   ]
  },
  {
   "cell_type": "markdown",
   "metadata": {},
   "source": [
    "Perform 1000 iterator"
   ]
  },
  {
   "cell_type": "code",
   "execution_count": 90,
   "metadata": {},
   "outputs": [
    {
     "name": "stdout",
     "output_type": "stream",
     "text": [
      "Accuracy: 80.8%\n"
     ]
    }
   ],
   "source": [
    "optimize(990)\n",
    "print_accuracy()"
   ]
  },
  {
   "cell_type": "code",
   "execution_count": 91,
   "metadata": {},
   "outputs": [
    {
     "data": {
      "image/png": "[encoded data removed]",
      "text/plain": [
       "<Figure size 432x288 with 9 Axes>"
      ]
     },
     "metadata": {},
     "output_type": "display_data"
    }
   ],
   "source": [
    "plot_example_errors()"
   ]
  },
  {
   "cell_type": "code",
   "execution_count": null,
   "metadata": {},
   "outputs": [],
   "source": []
  }
 ],
 "metadata": {
  "kernelspec": {
   "display_name": "Python 3",
   "language": "python",
   "name": "python3"
  },
  "language_info": {
   "codemirror_mode": {
    "name": "ipython",
    "version": 3
   },
   "file_extension": ".py",
   "mimetype": "text/x-python",
   "name": "python",
   "nbconvert_exporter": "python",
   "pygments_lexer": "ipython3",
   "version": "3.7.3"
  }
 },
 "nbformat": 4,
 "nbformat_minor": 2
}
